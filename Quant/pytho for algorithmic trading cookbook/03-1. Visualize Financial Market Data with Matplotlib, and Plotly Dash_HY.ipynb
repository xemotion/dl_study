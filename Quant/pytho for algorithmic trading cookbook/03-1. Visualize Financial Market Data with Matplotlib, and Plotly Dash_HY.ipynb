{
 "cells": [
  {
   "cell_type": "markdown",
   "id": "f89e009a",
   "metadata": {},
   "source": [
    "# Matplotlib, Seaborn, 그리고 Plotly Dash를 사용한 금융 시장 데이터 시각화\n",
    "\n",
    "데이터 작업의 첫 번째 단계는 데이터를 시각화하고 탐색하는 것입니다. \n",
    "이는 특히 거래를 위해 사용하는 금융 시장 데이터를 다룰 때 더욱 중요합니다. \n",
    "\n",
    "이 장에서는 pandas, Matplotlib, Seaborn, Plotly, 그리고 Plotly Dash라는 다섯 가지 강력한 데이터 시각화 기법을 소개합니다.\n",
    "\n",
    "각 도구는 장단점이 있으며, 사용 사례에 따라 선택해야 합니다. \n",
    "\n",
    "\n",
    "* pandas는 Matplotlib과 Plotly를 사용하여 차트를 렌더링하는 내장 플로팅 기능을 제공\n",
    "\n",
    "####  주요 특징 \n",
    "\n",
    "| 툴 | 특징 | 비고 |  \n",
    "| --- | --- | --- |\n",
    "| Matplotlib | 3차원 표면 및 애니메이션 차트 포함한 고급 기능 제공| |\n",
    "| Seaborn | 다양한 통계적 데이터 시각화를 제공| |\n",
    "| Plotly | JavaScript를 사용하여 상호작용형 차트를 생성 |   |   \n",
    "| Plotly Dash | Python으로 상호작용형 웹 애플리케이션을 구축하기 위한 프레임워크 || \n",
    "\n",
    "\n",
    "이 장에서는 다음을 학습합니다.  \n",
    "- Pandas를 사용한 데이터 빠르게 시각화하기\n",
    "- Matplotlib을 사용하여 수익률 곡선의 변화를 애니메이션으로 표현하기\n",
    "- Matplotlib을 사용하여 옵션 암묵적 변동성 곡면 그리기\n",
    "- Seaborn을 사용하여 통계적 관계 시각화하기\n",
    "- Plotly Dash를 사용하여 상호작용형 PCA 분석 대시보드 생성하기\n",
    "\n",
    "---"
   ]
  },
  {
   "cell_type": "code",
   "execution_count": 45,
   "id": "37488939",
   "metadata": {},
   "outputs": [
    {
     "data": {
      "image/png": "[encoded data removed]",
      "text/plain": [
       "<Figure size 640x480 with 1 Axes>"
      ]
     },
     "metadata": {},
     "output_type": "display_data"
    }
   ],
   "source": [
    "# matplotlib 라이브러리와 한글 폰트 지원을 위한 koreanize-matplotlib 불러오기\n",
    "import matplotlib.pyplot as plt\n",
    "import koreanize_matplotlib\n",
    "\n",
    "# 간단한 그래프를 그려서 한글 폰트가 정상적으로 적용되는지 테스트\n",
    "# x축: [1,2,3], y축\n",
    "# : [1,4,9]로 2차 함수 형태의 그래프 생성\n",
    "plt.plot([1, 2, 3], [1, 4, 9])\n",
    "\n",
    "# 그래프의 제목과 축 레이블에 한글을 사용하여 폰트 적용 확인\n",
    "plt.title(\"한글 제목 테스트\")  # 그래프 제목\n",
    "plt.xlabel(\"X축\")  # x축 레이블\n",
    "plt.ylabel(\"Y축\")  # y축 레이블\n",
    "\n",
    "# 그래프 출력\n",
    "plt.show()"
   ]
  },
  {
   "cell_type": "markdown",
   "id": "79cb4f1e",
   "metadata": {},
   "source": [
    "## pandas를 사용한 데이터 빠르게 시각화하기\n",
    "\n",
    "pandas는 범용 데이터 조작 라이브러리입니다. Chapter 1(최첨단 Python 라이브러리를 사용하여 무료 금융 시장 데이터 획득하기) 및 Chapter 2(pandas를 사용하여 금융 시장 데이터 분석 및 변환하기)에서 확인한 것처럼, 데이터 획득 및 조작에 사용할 수 있을 뿐만 아니라 플로팅에도 사용할 수 있습니다. \n",
    "\n",
    "pandas는 플로팅 시 공통 메서드를 사용하는 다양한 **\"백엔드\"** 제공\n",
    "이 레시피에서는 기본 백엔드인 **Matplotlib**을 사용하여 금융 시장 데이터를 빠르게 시각화하는 방법을 배웁니다.\n",
    "\n",
    "\n",
    "* 여기에는 **라인 차트, 막대 차트, 히스토그램** 등이 포함됩니다.\n",
    "\n",
    "---"
   ]
  },
  {
   "cell_type": "markdown",
   "id": "889aa642",
   "metadata": {},
   "source": [
    "### matplotlib - pandas\n",
    "\n",
    "Matplotlib Plot은 pandas를 통해 가져와 사용할 수 있습니다."
   ]
  },
  {
   "cell_type": "markdown",
   "id": "563c53a1",
   "metadata": {},
   "source": [
    "1. 라이브러리 호출 "
   ]
  },
  {
   "cell_type": "code",
   "execution_count": 46,
   "id": "77e9af5a",
   "metadata": {},
   "outputs": [],
   "source": [
    "import matplotlib.pyplot as plt\n",
    "import pandas as pd\n",
    "from IPython.display import display\n",
    "from openbb import obb\n",
    "from pandas.plotting import bootstrap_plot, scatter_matrix"
   ]
  },
  {
   "cell_type": "code",
   "execution_count": 47,
   "id": "e6ec8080",
   "metadata": {},
   "outputs": [],
   "source": [
    "obb.user.preferences.output_type = \"dataframe\""
   ]
  },
  {
   "cell_type": "markdown",
   "id": "790cabb0",
   "metadata": {},
   "source": [
    "2. 주가 데이터를 다운로드\n",
    "* \"yfinance\" 제공자를 사용하여 \"AAPL\" 주식의 과거 가격 데이터를 가져와서 'df'에 저장"
   ]
  },
  {
   "cell_type": "code",
   "execution_count": 49,
   "id": "7b4ba645",
   "metadata": {},
   "outputs": [
    {
     "data": {
      "text/html": [
       "<div>\n",
       "<style scoped>\n",
       "    .dataframe tbody tr th:only-of-type {\n",
       "        vertical-align: middle;\n",
       "    }\n",
       "\n",
       "    .dataframe tbody tr th {\n",
       "        vertical-align: top;\n",
       "    }\n",
       "\n",
       "    .dataframe thead th {\n",
       "        text-align: right;\n",
       "    }\n",
       "</style>\n",
       "<table border=\"1\" class=\"dataframe\">\n",
       "  <thead>\n",
       "    <tr style=\"text-align: right;\">\n",
       "      <th></th>\n",
       "      <th>open</th>\n",
       "      <th>high</th>\n",
       "      <th>low</th>\n",
       "      <th>close</th>\n",
       "      <th>volume</th>\n",
       "      <th>dividend</th>\n",
       "    </tr>\n",
       "    <tr>\n",
       "      <th>date</th>\n",
       "      <th></th>\n",
       "      <th></th>\n",
       "      <th></th>\n",
       "      <th></th>\n",
       "      <th></th>\n",
       "      <th></th>\n",
       "    </tr>\n",
       "  </thead>\n",
       "  <tbody>\n",
       "    <tr>\n",
       "      <th>2023-12-27</th>\n",
       "      <td>192.490005</td>\n",
       "      <td>193.500000</td>\n",
       "      <td>191.089996</td>\n",
       "      <td>193.149994</td>\n",
       "      <td>48087700</td>\n",
       "      <td>0.0</td>\n",
       "    </tr>\n",
       "    <tr>\n",
       "      <th>2023-12-28</th>\n",
       "      <td>194.139999</td>\n",
       "      <td>194.660004</td>\n",
       "      <td>193.169998</td>\n",
       "      <td>193.580002</td>\n",
       "      <td>34049900</td>\n",
       "      <td>0.0</td>\n",
       "    </tr>\n",
       "    <tr>\n",
       "      <th>2023-12-29</th>\n",
       "      <td>193.899994</td>\n",
       "      <td>194.399994</td>\n",
       "      <td>191.729996</td>\n",
       "      <td>192.529999</td>\n",
       "      <td>42628800</td>\n",
       "      <td>0.0</td>\n",
       "    </tr>\n",
       "    <tr>\n",
       "      <th>2024-01-02</th>\n",
       "      <td>187.149994</td>\n",
       "      <td>188.440002</td>\n",
       "      <td>183.889999</td>\n",
       "      <td>185.639999</td>\n",
       "      <td>82488700</td>\n",
       "      <td>0.0</td>\n",
       "    </tr>\n",
       "    <tr>\n",
       "      <th>2024-01-03</th>\n",
       "      <td>184.220001</td>\n",
       "      <td>185.880005</td>\n",
       "      <td>183.429993</td>\n",
       "      <td>184.250000</td>\n",
       "      <td>58414500</td>\n",
       "      <td>0.0</td>\n",
       "    </tr>\n",
       "  </tbody>\n",
       "</table>\n",
       "</div>"
      ],
      "text/plain": [
       "                  open        high         low       close    volume  dividend\n",
       "date                                                                          \n",
       "2023-12-27  192.490005  193.500000  191.089996  193.149994  48087700       0.0\n",
       "2023-12-28  194.139999  194.660004  193.169998  193.580002  34049900       0.0\n",
       "2023-12-29  193.899994  194.399994  191.729996  192.529999  42628800       0.0\n",
       "2024-01-02  187.149994  188.440002  183.889999  185.639999  82488700       0.0\n",
       "2024-01-03  184.220001  185.880005  183.429993  184.250000  58414500       0.0"
      ]
     },
     "execution_count": 49,
     "metadata": {},
     "output_type": "execute_result"
    }
   ],
   "source": [
    "df = obb.equity.price.historical(\"AAPL\", provider=\"yfinance\")\n",
    "df.head()"
   ]
  },
  {
   "cell_type": "markdown",
   "id": "de88115b",
   "metadata": {},
   "source": [
    "3. 종가를 플롯하는 라인 차트 생성"
   ]
  },
  {
   "cell_type": "code",
   "execution_count": 37,
   "id": "36237421",
   "metadata": {},
   "outputs": [
    {
     "data": {
      "text/plain": [
       "<Axes: xlabel='date'>"
      ]
     },
     "execution_count": 37,
     "metadata": {},
     "output_type": "execute_result"
    },
    {
     "data": {
      "image/png": "[encoded data removed]",
      "text/plain": [
       "<Figure size 640x480 with 1 Axes>"
      ]
     },
     "metadata": {},
     "output_type": "display_data"
    }
   ],
   "source": [
    "df.close.plot()"
   ]
  },
  {
   "cell_type": "markdown",
   "id": "075d6728",
   "metadata": {},
   "source": [
    "추가 스타일 옵션을 사용하여 일일 수익률 막대 차트 \n",
    "\n",
    "* 종가 변화율을 계산하여 'returns'에 저장합니다"
   ]
  },
  {
   "cell_type": "code",
   "execution_count": 64,
   "id": "197f68a6",
   "metadata": {},
   "outputs": [],
   "source": [
    "returns = df.close.pct_change()\n",
    "returns.name = \"return\""
   ]
  },
  {
   "cell_type": "code",
   "execution_count": 65,
   "id": "1b262dae",
   "metadata": {},
   "outputs": [
    {
     "data": {
      "text/plain": [
       "date\n",
       "2023-12-27         NaN\n",
       "2023-12-28    0.002226\n",
       "2023-12-29   -0.005424\n",
       "2024-01-02   -0.035787\n",
       "2024-01-03   -0.007488\n",
       "Name: return, dtype: float64"
      ]
     },
     "execution_count": 65,
     "metadata": {},
     "output_type": "execute_result"
    }
   ],
   "source": [
    "returns.head()"
   ]
  },
  {
   "cell_type": "markdown",
   "id": "71ff6db3",
   "metadata": {},
   "source": [
    "막대 차트\n",
    "* 제목이 있고 격자와 x축 눈금이 없는 수익률 막대 차트를 그림(title) "
   ]
  },
  {
   "cell_type": "code",
   "execution_count": 66,
   "id": "145f79d6",
   "metadata": {},
   "outputs": [
    {
     "data": {
      "text/plain": [
       "<Axes: title={'center': 'AAPL returns'}, xlabel='date'>"
      ]
     },
     "execution_count": 66,
     "metadata": {},
     "output_type": "execute_result"
    },
    {
     "data": {
      "image/png": "[encoded data removed]",
      "text/plain": [
       "<Figure size 640x480 with 1 Axes>"
      ]
     },
     "metadata": {},
     "output_type": "display_data"
    }
   ],
   "source": [
    "returns.plot.bar(title=\"AAPL returns\", grid=True, legend=True, xticks=[])"
   ]
  },
  {
   "cell_type": "markdown",
   "id": "eb2c5849",
   "metadata": {},
   "source": [
    "5.히스토그램 생성 \n",
    " 50개의 구간으로 수익률의 히스토 그램(bins)"
   ]
  },
  {
   "cell_type": "code",
   "execution_count": 69,
   "id": "ad39dc79",
   "metadata": {},
   "outputs": [
    {
     "data": {
      "text/plain": [
       "<Axes: ylabel='Frequency'>"
      ]
     },
     "execution_count": 69,
     "metadata": {},
     "output_type": "execute_result"
    },
    {
     "data": {
      "image/png": "[encoded data removed]",
      "text/plain": [
       "<Figure size 640x480 with 1 Axes>"
      ]
     },
     "metadata": {},
     "output_type": "display_data"
    }
   ],
   "source": [
    "returns.plot.hist(bins=50)"
   ]
  },
  {
   "cell_type": "markdown",
   "id": "fb66883f",
   "metadata": {},
   "source": [
    "6. 박스-수염(Boxplot) \n",
    "* 수익률 박스 플롯\n",
    "* Box plot의 의미 (1-4분기, 이상치 등) "
   ]
  },
  {
   "cell_type": "code",
   "execution_count": 71,
   "id": "c2ab2212",
   "metadata": {},
   "outputs": [
    {
     "data": {
      "text/plain": [
       "<Axes: >"
      ]
     },
     "execution_count": 71,
     "metadata": {},
     "output_type": "execute_result"
    },
    {
     "data": {
      "image/png": "[encoded data removed]",
      "text/plain": [
       "<Figure size 640x480 with 1 Axes>"
      ]
     },
     "metadata": {},
     "output_type": "display_data"
    }
   ],
   "source": [
    "returns.plot.box()"
   ]
  },
  {
   "cell_type": "markdown",
   "id": "185c74c5",
   "metadata": {},
   "source": [
    ">상자 그림(Box plot)은 숫자 데이터의 분포를 사분위수를 통해 시각적으로 나타내는 그래픽 표현입니다. \n",
    "* 상자는 첫 번째 사분위수(Q1)에서 세 번째 사분위수(Q3)까지 걸쳐 있으며, 중앙값(Q2)을 나타내는 선이 포함됩니다. \n",
    "* 상자 끝에서 뻗어나가는 \"수염(whiskers)\"은 데이터 범위를 나타내며, 기본적으로 IQR(사분위 범위, Q3 - Q1)의 1.5배까지 확장됩니다. \n",
    "* 수염을 넘어선 데이터 포인트는 이상치로 간주됩니다.\n",
    "\n",
    "### 작동 방식\n",
    "pandas의 `plot` 메서드는 DataFrame 및 Series를 사용하여 다양한 유형의 플롯을 생성할 수 있습니다. \n",
    "* 내부적으로 pandas는 지정된 백엔드(기본값: Matplotlib)를 사용하여 시각화를 생성합니다. \n",
    "* 이 메서드를 사용하려면 먼저 DataFrame 또는 Series를 생성한 다음, 해당 객체에서 `plot` 메서드를 호출하면 됩니다. \n",
    "* 플롯의 색상, 크기, 제목, 축 레이블과 같은 외형을 제어하는 추가 매개변수를 선택적으로 지정할 수 있습니다.\n",
    "\n",
    ">`plot` 메서드를 사용하면 막대 그래프, 밀도 그래프, 산점도 등 다양한 플롯을 생성할 수 있습니다. <br>\n",
    "`kind` 매개변수를 사용하여 플롯 유형을 정의할 수 있습니다. <br>\n",
    "그러나 모든 백엔드가 모든 플롯 유형을 지원하는 것은 아닙니다. <br>\n",
    "예를 들어, `hexbin` 플롯 유형은 Plotly 백엔드에서 작동하지 않습니다. \n",
    "자세한 내용은 pandas 문서를 참조하세요.\n",
    "\n",
    "### 산점도(Scatter plot)\n",
    "* 정량적 포트폴리오 구성 및 위험 관리에서 일반적으로 수행되는 단계 중 하나는 **두 개 이상의 자산 간 관계**를 분석하는 것입니다. \n",
    "* 는 두 주식 간의 관계를 탐색하는 데 사용되는 시각적 표현 유형입니다. \n",
    "* 산점도의 각 점은 특정 시점에서 두 주식의 값 쌍을 나타냅니다. \n",
    "* 점의 x좌표는 한 주식의 값을, y좌표는 다른 주식의 값을 나타냅니다.\n",
    "\n",
    "만약 점들이 왼쪽 아래에서 오른쪽 위로 기울어진 패턴을 형성한다면, 이는 주식 간의 양의 상관관계를 나타냅니다. \n",
    "* 즉, 한 주식의 가격이 오르면 다른 주식의 가격도 오르는 경향이 있다는 뜻입니다. \n",
    "* 반대로 점들이 오른쪽 아래로 기울어진 패턴을 형성한다면 음의 상관관계를 의미하며, 한 주식의 가격이 오를 때 다른 주식의 가격은 하락하는 경향이 있다는 것을 뜻합니다. \n",
    "* 점들이 임의로 흩어져 특정한 패턴이 보이지 않는다면, 이는 상관관계가 없거나 약한 것을 나타냅니다.\n",
    "\n",
    "다음은 AAPL과 나스닥 추적 ETF(QQQ)를 비교하는 예시입니다:"
   ]
  },
  {
   "cell_type": "markdown",
   "id": "1e7bf39c",
   "metadata": {},
   "source": [
    "\"yfinance\" 제공자를 사용하여 \"QQQ\" 주식의 과거 가격 데이터를 가져와서 'qqq'에 저장합니다"
   ]
  },
  {
   "cell_type": "code",
   "execution_count": 74,
   "id": "b7f568ef",
   "metadata": {},
   "outputs": [
    {
     "data": {
      "text/html": [
       "<div>\n",
       "<style scoped>\n",
       "    .dataframe tbody tr th:only-of-type {\n",
       "        vertical-align: middle;\n",
       "    }\n",
       "\n",
       "    .dataframe tbody tr th {\n",
       "        vertical-align: top;\n",
       "    }\n",
       "\n",
       "    .dataframe thead th {\n",
       "        text-align: right;\n",
       "    }\n",
       "</style>\n",
       "<table border=\"1\" class=\"dataframe\">\n",
       "  <thead>\n",
       "    <tr style=\"text-align: right;\">\n",
       "      <th></th>\n",
       "      <th>open</th>\n",
       "      <th>high</th>\n",
       "      <th>low</th>\n",
       "      <th>close</th>\n",
       "      <th>volume</th>\n",
       "      <th>dividend</th>\n",
       "    </tr>\n",
       "    <tr>\n",
       "      <th>date</th>\n",
       "      <th></th>\n",
       "      <th></th>\n",
       "      <th></th>\n",
       "      <th></th>\n",
       "      <th></th>\n",
       "      <th></th>\n",
       "    </tr>\n",
       "  </thead>\n",
       "  <tbody>\n",
       "    <tr>\n",
       "      <th>2023-12-27</th>\n",
       "      <td>410.950012</td>\n",
       "      <td>411.790009</td>\n",
       "      <td>410.079987</td>\n",
       "      <td>411.500000</td>\n",
       "      <td>31980500</td>\n",
       "      <td>0.216</td>\n",
       "    </tr>\n",
       "    <tr>\n",
       "      <th>2023-12-28</th>\n",
       "      <td>412.670013</td>\n",
       "      <td>412.920013</td>\n",
       "      <td>410.940002</td>\n",
       "      <td>411.299988</td>\n",
       "      <td>27029200</td>\n",
       "      <td>0.000</td>\n",
       "    </tr>\n",
       "    <tr>\n",
       "      <th>2023-12-29</th>\n",
       "      <td>411.279999</td>\n",
       "      <td>411.640015</td>\n",
       "      <td>407.579987</td>\n",
       "      <td>409.519989</td>\n",
       "      <td>42633400</td>\n",
       "      <td>0.000</td>\n",
       "    </tr>\n",
       "    <tr>\n",
       "      <th>2024-01-02</th>\n",
       "      <td>405.839996</td>\n",
       "      <td>406.089996</td>\n",
       "      <td>400.239990</td>\n",
       "      <td>402.589996</td>\n",
       "      <td>58026900</td>\n",
       "      <td>0.000</td>\n",
       "    </tr>\n",
       "    <tr>\n",
       "      <th>2024-01-03</th>\n",
       "      <td>399.929993</td>\n",
       "      <td>401.000000</td>\n",
       "      <td>397.890015</td>\n",
       "      <td>398.329987</td>\n",
       "      <td>47002800</td>\n",
       "      <td>0.000</td>\n",
       "    </tr>\n",
       "  </tbody>\n",
       "</table>\n",
       "</div>"
      ],
      "text/plain": [
       "                  open        high         low       close    volume  dividend\n",
       "date                                                                          \n",
       "2023-12-27  410.950012  411.790009  410.079987  411.500000  31980500     0.216\n",
       "2023-12-28  412.670013  412.920013  410.940002  411.299988  27029200     0.000\n",
       "2023-12-29  411.279999  411.640015  407.579987  409.519989  42633400     0.000\n",
       "2024-01-02  405.839996  406.089996  400.239990  402.589996  58026900     0.000\n",
       "2024-01-03  399.929993  401.000000  397.890015  398.329987  47002800     0.000"
      ]
     },
     "execution_count": 74,
     "metadata": {},
     "output_type": "execute_result"
    }
   ],
   "source": [
    "qqq = obb.equity.price.historical(\"QQQ\", provider=\"yfinance\")\n",
    "qqq.head()"
   ]
  },
  {
   "cell_type": "markdown",
   "id": "ea3fb76d",
   "metadata": {},
   "source": [
    "'QQQ'의 종가 변화율을 계산하여 'qqq_returns'에 저장합니다"
   ]
  },
  {
   "cell_type": "code",
   "execution_count": 75,
   "id": "c176e1f0",
   "metadata": {},
   "outputs": [
    {
     "data": {
      "text/plain": [
       "date\n",
       "2023-12-27         NaN\n",
       "2023-12-28   -0.000486\n",
       "2023-12-29   -0.004328\n",
       "2024-01-02   -0.016922\n",
       "2024-01-03   -0.010582\n",
       "Name: close, dtype: float64"
      ]
     },
     "execution_count": 75,
     "metadata": {},
     "output_type": "execute_result"
    }
   ],
   "source": [
    "qqq_returns = qqq.close.pct_change()\n",
    "qqq_returns.head()"
   ]
  },
  {
   "cell_type": "markdown",
   "id": "12e98d67",
   "metadata": {},
   "source": [
    "'returns'와 'qqq_returns'를 DataFrame 'asset_bench'로 연결하고 열 이름을 변경합니다"
   ]
  },
  {
   "cell_type": "code",
   "execution_count": 76,
   "id": "cec38109",
   "metadata": {},
   "outputs": [
    {
     "data": {
      "text/html": [
       "<div>\n",
       "<style scoped>\n",
       "    .dataframe tbody tr th:only-of-type {\n",
       "        vertical-align: middle;\n",
       "    }\n",
       "\n",
       "    .dataframe tbody tr th {\n",
       "        vertical-align: top;\n",
       "    }\n",
       "\n",
       "    .dataframe thead th {\n",
       "        text-align: right;\n",
       "    }\n",
       "</style>\n",
       "<table border=\"1\" class=\"dataframe\">\n",
       "  <thead>\n",
       "    <tr style=\"text-align: right;\">\n",
       "      <th></th>\n",
       "      <th>AAPL</th>\n",
       "      <th>QQQ</th>\n",
       "    </tr>\n",
       "    <tr>\n",
       "      <th>date</th>\n",
       "      <th></th>\n",
       "      <th></th>\n",
       "    </tr>\n",
       "  </thead>\n",
       "  <tbody>\n",
       "    <tr>\n",
       "      <th>2023-12-27</th>\n",
       "      <td>NaN</td>\n",
       "      <td>NaN</td>\n",
       "    </tr>\n",
       "    <tr>\n",
       "      <th>2023-12-28</th>\n",
       "      <td>0.002226</td>\n",
       "      <td>-0.000486</td>\n",
       "    </tr>\n",
       "    <tr>\n",
       "      <th>2023-12-29</th>\n",
       "      <td>-0.005424</td>\n",
       "      <td>-0.004328</td>\n",
       "    </tr>\n",
       "    <tr>\n",
       "      <th>2024-01-02</th>\n",
       "      <td>-0.035787</td>\n",
       "      <td>-0.016922</td>\n",
       "    </tr>\n",
       "    <tr>\n",
       "      <th>2024-01-03</th>\n",
       "      <td>-0.007488</td>\n",
       "      <td>-0.010582</td>\n",
       "    </tr>\n",
       "  </tbody>\n",
       "</table>\n",
       "</div>"
      ],
      "text/plain": [
       "                AAPL       QQQ\n",
       "date                          \n",
       "2023-12-27       NaN       NaN\n",
       "2023-12-28  0.002226 -0.000486\n",
       "2023-12-29 -0.005424 -0.004328\n",
       "2024-01-02 -0.035787 -0.016922\n",
       "2024-01-03 -0.007488 -0.010582"
      ]
     },
     "execution_count": 76,
     "metadata": {},
     "output_type": "execute_result"
    }
   ],
   "source": [
    "asset_bench = pd.concat([returns, qqq_returns], axis=1)\n",
    "asset_bench.columns = [\"AAPL\", \"QQQ\"]\n",
    "asset_bench.head()"
   ]
  },
  {
   "cell_type": "code",
   "execution_count": 77,
   "id": "f7d7a2e8-abba-40da-8d69-0d79b0bd0616",
   "metadata": {},
   "outputs": [],
   "source": [
    "asset_bench.dropna(inplace = True)"
   ]
  },
  {
   "cell_type": "markdown",
   "id": "859cb2b6",
   "metadata": {},
   "source": [
    "결과는 AAPL 수익률과 QQQ 수익률 간의 긍정적인 관계를 나타내는 산점도를 보여줍니다.\n",
    "* AAPL 수익률과 QQQ 수익률을 점 크기 0.25로 산점도를 그립니다"
   ]
  },
  {
   "cell_type": "code",
   "execution_count": 78,
   "id": "8e6e3ce5",
   "metadata": {},
   "outputs": [
    {
     "data": {
      "text/plain": [
       "<Axes: xlabel='QQQ', ylabel='AAPL'>"
      ]
     },
     "execution_count": 78,
     "metadata": {},
     "output_type": "execute_result"
    },
    {
     "data": {
      "image/png": "[encoded data removed]",
      "text/plain": [
       "<Figure size 640x480 with 1 Axes>"
      ]
     },
     "metadata": {},
     "output_type": "display_data"
    }
   ],
   "source": [
    "asset_bench.plot.scatter(x=\"QQQ\", y=\"AAPL\", s=0.25)"
   ]
  },
  {
   "cell_type": "markdown",
   "id": "b4e8c4b1",
   "metadata": {},
   "source": [
    "#### 산점도 행렬(Scatter_matrix)  \n",
    "* pandas의 scatter_matrix 함수는 **변수들 간의 쌍별 관계를 시각화**합니다. \n",
    "* 이 함수는 산점도 행렬을 생성하며, 각 산점도는 두 열을 서로 비교하여 그립니다. \n",
    "* 이를 통해 데이터 내의 잠재적인 상관관계나 패턴을 빠르게 시각적으로 검사할 수 있습니다. \n",
    "* 또한 주대각선(왼쪽 상단에서 오른쪽 하단까지)에는 각 열의 히스토그램이 표시되어 데이터 분포를 시각화하는 데 도움이 됩니다.\n",
    "\n",
    "asset_bench의 산점도 행렬을 그립니다"
   ]
  },
  {
   "cell_type": "code",
   "execution_count": 18,
   "id": "51ee1288",
   "metadata": {},
   "outputs": [
    {
     "data": {
      "text/plain": [
       "array([[<Axes: xlabel='AAPL', ylabel='AAPL'>,\n",
       "        <Axes: xlabel='QQQ', ylabel='AAPL'>],\n",
       "       [<Axes: xlabel='AAPL', ylabel='QQQ'>,\n",
       "        <Axes: xlabel='QQQ', ylabel='QQQ'>]], dtype=object)"
      ]
     },
     "execution_count": 18,
     "metadata": {},
     "output_type": "execute_result"
    },
    {
     "data": {
      "image/png": "[encoded data removed]",
      "text/plain": [
       "<Figure size 640x480 with 4 Axes>"
      ]
     },
     "metadata": {},
     "output_type": "display_data"
    }
   ],
   "source": [
    "scatter_matrix(asset_bench)"
   ]
  },
  {
   "cell_type": "markdown",
   "id": "2e699e4a",
   "metadata": {},
   "source": [
    "#### bootstrap_plot\n",
    "* `bootstrap_plot`은 평균, 중앙값, 중간범위를 포함한 특정 통계량과 관련된 **변동성을 시각적으로 평가**하는 데 사용됩니다. \n",
    "\n",
    "\n",
    "* 1. 데이터 세트에서 지정된 크기의 부분집합을 **무작위로 샘플링**하고, 이 부분집합에 대해 **목표 통계량을 계산**합니다.\n",
    "  2. 이 절차는 **미리 정해진 횟수만큼 반복적으로 수행**됩니다.\n",
    "  3. 이렇게 생성된 **플롯과 히스토그램이 모여 부트스트랩 플롯을 형성**합니다.\n",
    "  4. 기본적으로 bootstrap_plot은 각 샘플링마다 50개의 데이터 포인트를 선택합니다. \n",
    "  5. 결과는 부트스트랩 플롯입니다.\n",
    "\n",
    "`returns`의 부트스트랩 플롯을 그립니다"
   ]
  },
  {
   "cell_type": "code",
   "execution_count": 19,
   "id": "ee9ddf02",
   "metadata": {},
   "outputs": [
    {
     "data": {
      "image/png": "[encoded data removed]",
      "text/plain": [
       "<Figure size 640x480 with 6 Axes>"
      ]
     },
     "execution_count": 19,
     "metadata": {},
     "output_type": "execute_result"
    },
    {
     "data": {
      "image/png": "[encoded data removed]",
      "text/plain": [
       "<Figure size 640x480 with 6 Axes>"
      ]
     },
     "metadata": {},
     "output_type": "display_data"
    }
   ],
   "source": [
    "bootstrap_plot(returns)"
   ]
  },
  {
   "cell_type": "markdown",
   "id": "4de41d57",
   "metadata": {},
   "source": [
    "### 참고 자료\n",
    "pandas는 플롯(plot)에 대한 자세한 문서를 제공합니다. 자세한 내용은 아래 링크를 참고하세요:\n",
    "\n",
    "- pandas 플롯 문서: [https://pandas.pydata.org/docs/reference/api/pandas.DataFrame.plot.html](https://pandas.pydata.org/docs/reference/api/pandas.DataFrame.plot.html)  \n",
    "- pandas `scatter_matrix` 문서: [https://pandas.pydata.org/docs/reference/api/pandas.plotting.scatter_matrix.html](https://pandas.pydata.org/docs/reference/api/pandas.plotting.scatter_matrix.html)  \n",
    "- pandas `bootstrap_plot` 문서: [https://pandas.pydata.org/docs/reference/api/pandas.plotting.bootstrap_plot.html](https://pandas.pydata.org/docs/reference/api/pandas.plotting.bootstrap_plot.html)  \n",
    "\n",
    "pandas 플로팅의 실제 사용 예를 더 보려면 PyQuant 뉴스레터의 지난 호를 확인하세요: [https://www.pyquantnews.com/past-pyquant-newsletter-issues](https://www.pyquantnews.com/past-pyquant-newsletter-issues)\n",
    "\n",
    "--- "
   ]
  },
  {
   "cell_type": "markdown",
   "id": "e4731e5e",
   "metadata": {},
   "source": [
    "## Matplotlib을 사용한 수익률 곡선의 변화 애니메이션화\n",
    "\n",
    "* 데이터를 시간에 따라 변화하는 모습으 시각화하고자 할 때 사용함 \n",
    "* 수익률 곡선(yield curve)은 동일한 신용등급의 채권이 만기에 따라 가지는 수익률을 나타내며, 일반적으로 우상향하는 경향이 있습니다. \n",
    "* 이는 장기 채권이 단기 채권보다 더 높은 수익률을 가지기 때문이며, 이는 장기 채권 보유 시 더 많은 위험(예: 인플레이션, 높은 이자율 변동성)을 감수해야 하기 때문입니다.\n",
    "* 그러나 때로는 수익률 곡선이 역전되기도 합니다. 이는 단기 채권이 장기 채권보다 더 높은 수익률을 제공한다는 것을 의미합니다. \n",
    "\n",
    "**많은 트레이더와 경제학자들은 역전된 수익률 곡선을 경기 침체의 전조로 간주합니다.** \n",
    "\n",
    "* 역전된 수익률 곡선은 역사적으로 미국 경기 침체에 앞서 나타나며, 이는 미래 금리 하락과 경제 둔화를 예상하는 투자자들의 심리를 반영합니다. \n",
    "* 이러한 역전은 은행의 수익성을 제한하여 대출 감소와 경제 성장 둔화를 초래할 수 있습니다. \n",
    "* 또한, 경기 침체에 대한 기대는 기업과 소비자의 지출 감소로 이어지면서 자기충족적 예언이 될 수 있습니다. \n",
    "* 투자자들은 더 안전한 자산으로 자금을 옮길 수 있으며, 이는 위험 자산에 대한 자금 조달을 제한할 수 있습니다.\n",
    "\n",
    "---"
   ]
  },
  {
   "cell_type": "markdown",
   "id": "a0c1bda5",
   "metadata": {},
   "source": [
    "#### 코드 실행\n",
    "\n",
    "애니메이션화된 플롯을 생성하려면 Matplotlib에서 제공하는 `animation`이라는 특수 기능을 사용해야 합니다.\n",
    "\n",
    "1. 라이브러리 가져오기 "
   ]
  },
  {
   "cell_type": "code",
   "execution_count": 5,
   "id": "fdebe3cb",
   "metadata": {},
   "outputs": [],
   "source": [
    "import matplotlib.pyplot as plt\n",
    "import numpy as np\n",
    "from IPython.display import display\n",
    "from matplotlib import animation\n",
    "from mpl_toolkits.mplot3d import Axes3D\n",
    "from openbb import obb"
   ]
  },
  {
   "cell_type": "code",
   "execution_count": 6,
   "id": "03f31e84",
   "metadata": {},
   "outputs": [],
   "source": [
    "obb.user.preferences.output_type = \"dataframe\""
   ]
  },
  {
   "cell_type": "markdown",
   "id": "9d713ccb",
   "metadata": {},
   "source": [
    "2. 만기 목록 생성 및 데이터 다운로드 \n",
    "* 국채 만기 정의"
   ]
  },
  {
   "cell_type": "code",
   "execution_count": 7,
   "id": "45a8d9ae",
   "metadata": {},
   "outputs": [],
   "source": [
    "maturities = [\"3m\", \"6m\", \"1y\", \"2y\", \"3y\", \"5y\", \"7y\", \"10y\", \"30y\"]"
   ]
  },
  {
   "cell_type": "markdown",
   "id": "be07e8ab",
   "metadata": {},
   "source": [
    "3. 데이터 정제 \n",
    "* 연방준비제도로부터 국채 금리 데이터를 가져오고, NaN 값과 불필요한 열을 제거한 후 열 이름을 변경"
   ]
  },
  {
   "cell_type": "code",
   "execution_count": 8,
   "id": "e07d619f",
   "metadata": {},
   "outputs": [],
   "source": [
    "# 연방준비제도로부터 국채 금리 데이터를 가져옴\n",
    "# start_date: 1985년 1월 1일부터 데이터 조회\n",
    "# provider: 연방준비제도 데이터 사용\n",
    "# dropna: 모든 값이 NaN인 행 제거\n",
    "# drop: month_1, year_20 열 제거\n",
    "# columns: 만기 기간으로 열 이름 변경\n",
    "data = (\n",
    "    obb.fixedincome.government.treasury_rates(\n",
    "        start_date=\"1985-01-01\",\n",
    "        provider=\"federal_reserve\",\n",
    "    )\n",
    "    .dropna(how=\"all\")\n",
    "    .drop(columns=[\"month_1\", \"year_20\"])\n",
    ")\n",
    "data.columns = maturities"
   ]
  },
  {
   "cell_type": "code",
   "execution_count": 12,
   "id": "5d224608-64c1-4af0-98fb-fb11c448c6a7",
   "metadata": {},
   "outputs": [
    {
     "data": {
      "text/html": [
       "<div>\n",
       "<style scoped>\n",
       "    .dataframe tbody tr th:only-of-type {\n",
       "        vertical-align: middle;\n",
       "    }\n",
       "\n",
       "    .dataframe tbody tr th {\n",
       "        vertical-align: top;\n",
       "    }\n",
       "\n",
       "    .dataframe thead th {\n",
       "        text-align: right;\n",
       "    }\n",
       "</style>\n",
       "<table border=\"1\" class=\"dataframe\">\n",
       "  <thead>\n",
       "    <tr style=\"text-align: right;\">\n",
       "      <th></th>\n",
       "      <th>3m</th>\n",
       "      <th>6m</th>\n",
       "      <th>1y</th>\n",
       "      <th>2y</th>\n",
       "      <th>3y</th>\n",
       "      <th>5y</th>\n",
       "      <th>7y</th>\n",
       "      <th>10y</th>\n",
       "      <th>30y</th>\n",
       "      <th>inverted</th>\n",
       "    </tr>\n",
       "    <tr>\n",
       "      <th>date</th>\n",
       "      <th></th>\n",
       "      <th></th>\n",
       "      <th></th>\n",
       "      <th></th>\n",
       "      <th></th>\n",
       "      <th></th>\n",
       "      <th></th>\n",
       "      <th></th>\n",
       "      <th></th>\n",
       "      <th></th>\n",
       "    </tr>\n",
       "  </thead>\n",
       "  <tbody>\n",
       "    <tr>\n",
       "      <th>1985-01-02</th>\n",
       "      <td>0.0810</td>\n",
       "      <td>0.0862</td>\n",
       "      <td>0.0919</td>\n",
       "      <td>0.1003</td>\n",
       "      <td>0.1061</td>\n",
       "      <td>0.1122</td>\n",
       "      <td>0.1168</td>\n",
       "      <td>0.1170</td>\n",
       "      <td>0.1169</td>\n",
       "      <td>False</td>\n",
       "    </tr>\n",
       "    <tr>\n",
       "      <th>1985-01-03</th>\n",
       "      <td>0.0807</td>\n",
       "      <td>0.0862</td>\n",
       "      <td>0.0917</td>\n",
       "      <td>0.1006</td>\n",
       "      <td>0.1055</td>\n",
       "      <td>0.1113</td>\n",
       "      <td>0.1154</td>\n",
       "      <td>0.1162</td>\n",
       "      <td>0.1164</td>\n",
       "      <td>False</td>\n",
       "    </tr>\n",
       "    <tr>\n",
       "      <th>1985-01-04</th>\n",
       "      <td>0.0808</td>\n",
       "      <td>0.0861</td>\n",
       "      <td>0.0917</td>\n",
       "      <td>0.1008</td>\n",
       "      <td>0.1062</td>\n",
       "      <td>0.1119</td>\n",
       "      <td>0.1161</td>\n",
       "      <td>0.1167</td>\n",
       "      <td>0.1170</td>\n",
       "      <td>False</td>\n",
       "    </tr>\n",
       "    <tr>\n",
       "      <th>1985-01-07</th>\n",
       "      <td>0.0806</td>\n",
       "      <td>0.0851</td>\n",
       "      <td>0.0903</td>\n",
       "      <td>0.1001</td>\n",
       "      <td>0.1050</td>\n",
       "      <td>0.1109</td>\n",
       "      <td>0.1141</td>\n",
       "      <td>0.1150</td>\n",
       "      <td>0.1153</td>\n",
       "      <td>False</td>\n",
       "    </tr>\n",
       "    <tr>\n",
       "      <th>1985-01-08</th>\n",
       "      <td>0.0806</td>\n",
       "      <td>0.0848</td>\n",
       "      <td>0.0904</td>\n",
       "      <td>0.0999</td>\n",
       "      <td>0.1048</td>\n",
       "      <td>0.1104</td>\n",
       "      <td>0.1136</td>\n",
       "      <td>0.1145</td>\n",
       "      <td>0.1149</td>\n",
       "      <td>False</td>\n",
       "    </tr>\n",
       "  </tbody>\n",
       "</table>\n",
       "</div>"
      ],
      "text/plain": [
       "                3m      6m      1y      2y      3y      5y      7y     10y  \\\n",
       "date                                                                         \n",
       "1985-01-02  0.0810  0.0862  0.0919  0.1003  0.1061  0.1122  0.1168  0.1170   \n",
       "1985-01-03  0.0807  0.0862  0.0917  0.1006  0.1055  0.1113  0.1154  0.1162   \n",
       "1985-01-04  0.0808  0.0861  0.0917  0.1008  0.1062  0.1119  0.1161  0.1167   \n",
       "1985-01-07  0.0806  0.0851  0.0903  0.1001  0.1050  0.1109  0.1141  0.1150   \n",
       "1985-01-08  0.0806  0.0848  0.0904  0.0999  0.1048  0.1104  0.1136  0.1145   \n",
       "\n",
       "               30y  inverted  \n",
       "date                          \n",
       "1985-01-02  0.1169     False  \n",
       "1985-01-03  0.1164     False  \n",
       "1985-01-04  0.1170     False  \n",
       "1985-01-07  0.1153     False  \n",
       "1985-01-08  0.1149     False  "
      ]
     },
     "execution_count": 12,
     "metadata": {},
     "output_type": "execute_result"
    }
   ],
   "source": [
    "\n",
    "data.head()"
   ]
  },
  {
   "cell_type": "markdown",
   "id": "35ae91da",
   "metadata": {},
   "source": [
    "3. 수익률 곡선 역전을 표시하기 위한 불리언 인덱싱 사용\n",
    "\n",
    "* 수익률 곡선이 역전되었는지 나타내는 열 추가 (30년물 < 3개월물)"
   ]
  },
  {
   "cell_type": "code",
   "execution_count": 9,
   "id": "66d9e861",
   "metadata": {},
   "outputs": [],
   "source": [
    "data[\"inverted\"] = data[\"30y\"] < data[\"3m\"]"
   ]
  },
  {
   "cell_type": "code",
   "execution_count": 26,
   "id": "e1c2d971-22ed-49f6-9141-ea49cea18d9b",
   "metadata": {},
   "outputs": [
    {
     "data": {
      "text/html": [
       "<div>\n",
       "<style scoped>\n",
       "    .dataframe tbody tr th:only-of-type {\n",
       "        vertical-align: middle;\n",
       "    }\n",
       "\n",
       "    .dataframe tbody tr th {\n",
       "        vertical-align: top;\n",
       "    }\n",
       "\n",
       "    .dataframe thead th {\n",
       "        text-align: right;\n",
       "    }\n",
       "</style>\n",
       "<table border=\"1\" class=\"dataframe\">\n",
       "  <thead>\n",
       "    <tr style=\"text-align: right;\">\n",
       "      <th></th>\n",
       "      <th>3m</th>\n",
       "      <th>6m</th>\n",
       "      <th>1y</th>\n",
       "      <th>2y</th>\n",
       "      <th>3y</th>\n",
       "      <th>5y</th>\n",
       "      <th>7y</th>\n",
       "      <th>10y</th>\n",
       "      <th>30y</th>\n",
       "      <th>inverted</th>\n",
       "    </tr>\n",
       "    <tr>\n",
       "      <th>date</th>\n",
       "      <th></th>\n",
       "      <th></th>\n",
       "      <th></th>\n",
       "      <th></th>\n",
       "      <th></th>\n",
       "      <th></th>\n",
       "      <th></th>\n",
       "      <th></th>\n",
       "      <th></th>\n",
       "      <th></th>\n",
       "    </tr>\n",
       "  </thead>\n",
       "  <tbody>\n",
       "    <tr>\n",
       "      <th>1985-01-02</th>\n",
       "      <td>0.0810</td>\n",
       "      <td>0.0862</td>\n",
       "      <td>0.0919</td>\n",
       "      <td>0.1003</td>\n",
       "      <td>0.1061</td>\n",
       "      <td>0.1122</td>\n",
       "      <td>0.1168</td>\n",
       "      <td>0.1170</td>\n",
       "      <td>0.1169</td>\n",
       "      <td>False</td>\n",
       "    </tr>\n",
       "    <tr>\n",
       "      <th>1985-01-03</th>\n",
       "      <td>0.0807</td>\n",
       "      <td>0.0862</td>\n",
       "      <td>0.0917</td>\n",
       "      <td>0.1006</td>\n",
       "      <td>0.1055</td>\n",
       "      <td>0.1113</td>\n",
       "      <td>0.1154</td>\n",
       "      <td>0.1162</td>\n",
       "      <td>0.1164</td>\n",
       "      <td>False</td>\n",
       "    </tr>\n",
       "    <tr>\n",
       "      <th>1985-01-04</th>\n",
       "      <td>0.0808</td>\n",
       "      <td>0.0861</td>\n",
       "      <td>0.0917</td>\n",
       "      <td>0.1008</td>\n",
       "      <td>0.1062</td>\n",
       "      <td>0.1119</td>\n",
       "      <td>0.1161</td>\n",
       "      <td>0.1167</td>\n",
       "      <td>0.1170</td>\n",
       "      <td>False</td>\n",
       "    </tr>\n",
       "    <tr>\n",
       "      <th>1985-01-07</th>\n",
       "      <td>0.0806</td>\n",
       "      <td>0.0851</td>\n",
       "      <td>0.0903</td>\n",
       "      <td>0.1001</td>\n",
       "      <td>0.1050</td>\n",
       "      <td>0.1109</td>\n",
       "      <td>0.1141</td>\n",
       "      <td>0.1150</td>\n",
       "      <td>0.1153</td>\n",
       "      <td>False</td>\n",
       "    </tr>\n",
       "    <tr>\n",
       "      <th>1985-01-08</th>\n",
       "      <td>0.0806</td>\n",
       "      <td>0.0848</td>\n",
       "      <td>0.0904</td>\n",
       "      <td>0.0999</td>\n",
       "      <td>0.1048</td>\n",
       "      <td>0.1104</td>\n",
       "      <td>0.1136</td>\n",
       "      <td>0.1145</td>\n",
       "      <td>0.1149</td>\n",
       "      <td>False</td>\n",
       "    </tr>\n",
       "  </tbody>\n",
       "</table>\n",
       "</div>"
      ],
      "text/plain": [
       "                3m      6m      1y      2y      3y      5y      7y     10y  \\\n",
       "date                                                                         \n",
       "1985-01-02  0.0810  0.0862  0.0919  0.1003  0.1061  0.1122  0.1168  0.1170   \n",
       "1985-01-03  0.0807  0.0862  0.0917  0.1006  0.1055  0.1113  0.1154  0.1162   \n",
       "1985-01-04  0.0808  0.0861  0.0917  0.1008  0.1062  0.1119  0.1161  0.1167   \n",
       "1985-01-07  0.0806  0.0851  0.0903  0.1001  0.1050  0.1109  0.1141  0.1150   \n",
       "1985-01-08  0.0806  0.0848  0.0904  0.0999  0.1048  0.1104  0.1136  0.1145   \n",
       "\n",
       "               30y  inverted  \n",
       "date                          \n",
       "1985-01-02  0.1169     False  \n",
       "1985-01-03  0.1164     False  \n",
       "1985-01-04  0.1170     False  \n",
       "1985-01-07  0.1153     False  \n",
       "1985-01-08  0.1149     False  "
      ]
     },
     "execution_count": 26,
     "metadata": {},
     "output_type": "execute_result"
    }
   ],
   "source": [
    "data.head()"
   ]
  },
  {
   "cell_type": "markdown",
   "id": "6640b6fd",
   "metadata": {},
   "source": [
    "4. **도형 초기화**:"
   ]
  },
  {
   "cell_type": "code",
   "execution_count": 13,
   "id": "994f67df",
   "metadata": {},
   "outputs": [
    {
     "data": {
      "image/png": "[encoded data removed]",
      "text/plain": [
       "<Figure size 640x480 with 1 Axes>"
      ]
     },
     "metadata": {},
     "output_type": "display_data"
    }
   ],
   "source": [
    "# 그래프를 그리기 위한 figure 객체 생성\n",
    "fig = plt.figure()\n",
    "\n",
    "# 1x1 그리드의 첫 번째 위치에 subplot 추가\n",
    "ax = fig.add_subplot(1, 1, 1)\n",
    "\n",
    "# 빈 라인 플롯 생성 (나중에 데이터가 추가될 예정)\n",
    "(line,) = ax.plot([], [])"
   ]
  },
  {
   "cell_type": "markdown",
   "id": "ba278cdd",
   "metadata": {},
   "source": [
    "5. 눈금 범위 설정"
   ]
  },
  {
   "cell_type": "code",
   "execution_count": 11,
   "id": "73291aad",
   "metadata": {},
   "outputs": [
    {
     "data": {
      "text/plain": [
       "(0.0, 20.0)"
      ]
     },
     "execution_count": 11,
     "metadata": {},
     "output_type": "execute_result"
    }
   ],
   "source": [
    "# x축 범위를 0-8로 설정 (모든 열을 수용하도록 범위 조정)\n",
    "ax.set_xlim(0, 8)\n",
    "# y축 범위를 0-20으로 설정 (금리 범위를 포함하도록)\n",
    "ax.set_ylim(0, 20)"
   ]
  },
  {
   "cell_type": "markdown",
   "id": "2287bd06",
   "metadata": {},
   "source": [
    "6. 눈금 위치 설정 "
   ]
  },
  {
   "cell_type": "code",
   "execution_count": 16,
   "id": "96bd2940",
   "metadata": {},
   "outputs": [
    {
     "data": {
      "text/plain": [
       "[<matplotlib.axis.YTick at 0x12dee15d0>,\n",
       " <matplotlib.axis.YTick at 0x12de3e140>,\n",
       " <matplotlib.axis.YTick at 0x12dec55a0>,\n",
       " <matplotlib.axis.YTick at 0x12dec6290>,\n",
       " <matplotlib.axis.YTick at 0x12dec6f80>,\n",
       " <matplotlib.axis.YTick at 0x12dec50f0>,\n",
       " <matplotlib.axis.YTick at 0x12dec7d90>,\n",
       " <matplotlib.axis.YTick at 0x12dee1120>,\n",
       " <matplotlib.axis.YTick at 0x12de198a0>]"
      ]
     },
     "execution_count": 16,
     "metadata": {},
     "output_type": "execute_result"
    }
   ],
   "source": [
    "# x축 눈금을 0부터 8까지 설정 (9개의 만기 기간에 대응)\n",
    "ax.set_xticks(range(9))\n",
    "# y축 눈금을 2부터 18까지 2씩 증가하도록 설정 (수익률 범위)\n",
    "ax.set_yticks([2, 4, 6, 8, 10, 12, 14, 16, 18])"
   ]
  },
  {
   "cell_type": "markdown",
   "id": "8bb8406c",
   "metadata": {},
   "source": [
    "7. **축 레이블 설정**:"
   ]
  },
  {
   "cell_type": "code",
   "execution_count": 17,
   "id": "6199e398",
   "metadata": {},
   "outputs": [
    {
     "data": {
      "text/plain": [
       "[Text(0, 2, '2'),\n",
       " Text(0, 4, '4'),\n",
       " Text(0, 6, '6'),\n",
       " Text(0, 8, '8'),\n",
       " Text(0, 10, '10'),\n",
       " Text(0, 12, '12'),\n",
       " Text(0, 14, '14'),\n",
       " Text(0, 16, '16'),\n",
       " Text(0, 18, '18')]"
      ]
     },
     "execution_count": 17,
     "metadata": {},
     "output_type": "execute_result"
    }
   ],
   "source": [
    "# x축 눈금에 만기 기간 레이블 설정\n",
    "ax.set_xticklabels(maturities)\n",
    "# y축 눈금에 수익률 값 레이블 설정\n",
    "ax.set_yticklabels([2, 4, 6, 8, 10, 12, 14, 16, 18])"
   ]
  },
  {
   "cell_type": "markdown",
   "id": "209da1e1",
   "metadata": {},
   "source": [
    "8. **y축 레이블을 왼쪽으로 강제 배치**:"
   ]
  },
  {
   "cell_type": "code",
   "execution_count": 18,
   "id": "1e9d3065",
   "metadata": {},
   "outputs": [],
   "source": [
    "# y축 레이블과 눈금을 왼쪽에 배치\n",
    "ax.yaxis.set_label_position(\"left\")  # y축 레이블을 왼쪽에 배치\n",
    "ax.yaxis.tick_left()  # y축 눈금을 왼쪽에 배치"
   ]
  },
  {
   "cell_type": "markdown",
   "id": "ddc5b0b7",
   "metadata": {},
   "source": [
    "9. **축 레이블 추가**:"
   ]
  },
  {
   "cell_type": "code",
   "execution_count": 19,
   "id": "86dfa280",
   "metadata": {},
   "outputs": [
    {
     "data": {
      "text/plain": [
       "Text(0.5, 1.0, '미국 국채 수익률 곡선')"
      ]
     },
     "execution_count": 19,
     "metadata": {},
     "output_type": "execute_result"
    },
    {
     "name": "stderr",
     "output_type": "stream",
     "text": [
      "/Users/hyeyongseo/anaconda3/envs/qt/lib/python3.10/site-packages/IPython/core/events.py:82: UserWarning: Glyph 49688 (\\N{HANGUL SYLLABLE SU}) missing from font(s) DejaVu Sans.\n",
      "  func(*args, **kwargs)\n",
      "/Users/hyeyongseo/anaconda3/envs/qt/lib/python3.10/site-packages/IPython/core/events.py:82: UserWarning: Glyph 51061 (\\N{HANGUL SYLLABLE IG}) missing from font(s) DejaVu Sans.\n",
      "  func(*args, **kwargs)\n",
      "/Users/hyeyongseo/anaconda3/envs/qt/lib/python3.10/site-packages/IPython/core/events.py:82: UserWarning: Glyph 47456 (\\N{HANGUL SYLLABLE RYUL}) missing from font(s) DejaVu Sans.\n",
      "  func(*args, **kwargs)\n",
      "/Users/hyeyongseo/anaconda3/envs/qt/lib/python3.10/site-packages/IPython/core/events.py:82: UserWarning: Glyph 48120 (\\N{HANGUL SYLLABLE MI}) missing from font(s) DejaVu Sans.\n",
      "  func(*args, **kwargs)\n",
      "/Users/hyeyongseo/anaconda3/envs/qt/lib/python3.10/site-packages/IPython/core/events.py:82: UserWarning: Glyph 44397 (\\N{HANGUL SYLLABLE GUG}) missing from font(s) DejaVu Sans.\n",
      "  func(*args, **kwargs)\n",
      "/Users/hyeyongseo/anaconda3/envs/qt/lib/python3.10/site-packages/IPython/core/events.py:82: UserWarning: Glyph 52292 (\\N{HANGUL SYLLABLE CAE}) missing from font(s) DejaVu Sans.\n",
      "  func(*args, **kwargs)\n",
      "/Users/hyeyongseo/anaconda3/envs/qt/lib/python3.10/site-packages/IPython/core/events.py:82: UserWarning: Glyph 44257 (\\N{HANGUL SYLLABLE GOG}) missing from font(s) DejaVu Sans.\n",
      "  func(*args, **kwargs)\n",
      "/Users/hyeyongseo/anaconda3/envs/qt/lib/python3.10/site-packages/IPython/core/events.py:82: UserWarning: Glyph 49440 (\\N{HANGUL SYLLABLE SEON}) missing from font(s) DejaVu Sans.\n",
      "  func(*args, **kwargs)\n",
      "/Users/hyeyongseo/anaconda3/envs/qt/lib/python3.10/site-packages/IPython/core/events.py:82: UserWarning: Glyph 47564 (\\N{HANGUL SYLLABLE MAN}) missing from font(s) DejaVu Sans.\n",
      "  func(*args, **kwargs)\n",
      "/Users/hyeyongseo/anaconda3/envs/qt/lib/python3.10/site-packages/IPython/core/events.py:82: UserWarning: Glyph 44592 (\\N{HANGUL SYLLABLE GI}) missing from font(s) DejaVu Sans.\n",
      "  func(*args, **kwargs)\n",
      "/Users/hyeyongseo/anaconda3/envs/qt/lib/python3.10/site-packages/IPython/core/events.py:82: UserWarning: Glyph 44620 (\\N{HANGUL SYLLABLE GGA}) missing from font(s) DejaVu Sans.\n",
      "  func(*args, **kwargs)\n",
      "/Users/hyeyongseo/anaconda3/envs/qt/lib/python3.10/site-packages/IPython/core/events.py:82: UserWarning: Glyph 51648 (\\N{HANGUL SYLLABLE JI}) missing from font(s) DejaVu Sans.\n",
      "  func(*args, **kwargs)\n",
      "/Users/hyeyongseo/anaconda3/envs/qt/lib/python3.10/site-packages/IPython/core/events.py:82: UserWarning: Glyph 51032 (\\N{HANGUL SYLLABLE YI}) missing from font(s) DejaVu Sans.\n",
      "  func(*args, **kwargs)\n",
      "/Users/hyeyongseo/anaconda3/envs/qt/lib/python3.10/site-packages/IPython/core/events.py:82: UserWarning: Glyph 44036 (\\N{HANGUL SYLLABLE GAN}) missing from font(s) DejaVu Sans.\n",
      "  func(*args, **kwargs)\n",
      "/Users/hyeyongseo/anaconda3/envs/qt/lib/python3.10/site-packages/IPython/core/pylabtools.py:170: UserWarning: Glyph 49688 (\\N{HANGUL SYLLABLE SU}) missing from font(s) DejaVu Sans.\n",
      "  fig.canvas.print_figure(bytes_io, **kw)\n",
      "/Users/hyeyongseo/anaconda3/envs/qt/lib/python3.10/site-packages/IPython/core/pylabtools.py:170: UserWarning: Glyph 51061 (\\N{HANGUL SYLLABLE IG}) missing from font(s) DejaVu Sans.\n",
      "  fig.canvas.print_figure(bytes_io, **kw)\n",
      "/Users/hyeyongseo/anaconda3/envs/qt/lib/python3.10/site-packages/IPython/core/pylabtools.py:170: UserWarning: Glyph 47456 (\\N{HANGUL SYLLABLE RYUL}) missing from font(s) DejaVu Sans.\n",
      "  fig.canvas.print_figure(bytes_io, **kw)\n",
      "/Users/hyeyongseo/anaconda3/envs/qt/lib/python3.10/site-packages/IPython/core/pylabtools.py:170: UserWarning: Glyph 48120 (\\N{HANGUL SYLLABLE MI}) missing from font(s) DejaVu Sans.\n",
      "  fig.canvas.print_figure(bytes_io, **kw)\n",
      "/Users/hyeyongseo/anaconda3/envs/qt/lib/python3.10/site-packages/IPython/core/pylabtools.py:170: UserWarning: Glyph 44397 (\\N{HANGUL SYLLABLE GUG}) missing from font(s) DejaVu Sans.\n",
      "  fig.canvas.print_figure(bytes_io, **kw)\n",
      "/Users/hyeyongseo/anaconda3/envs/qt/lib/python3.10/site-packages/IPython/core/pylabtools.py:170: UserWarning: Glyph 52292 (\\N{HANGUL SYLLABLE CAE}) missing from font(s) DejaVu Sans.\n",
      "  fig.canvas.print_figure(bytes_io, **kw)\n",
      "/Users/hyeyongseo/anaconda3/envs/qt/lib/python3.10/site-packages/IPython/core/pylabtools.py:170: UserWarning: Glyph 44257 (\\N{HANGUL SYLLABLE GOG}) missing from font(s) DejaVu Sans.\n",
      "  fig.canvas.print_figure(bytes_io, **kw)\n",
      "/Users/hyeyongseo/anaconda3/envs/qt/lib/python3.10/site-packages/IPython/core/pylabtools.py:170: UserWarning: Glyph 49440 (\\N{HANGUL SYLLABLE SEON}) missing from font(s) DejaVu Sans.\n",
      "  fig.canvas.print_figure(bytes_io, **kw)\n",
      "/Users/hyeyongseo/anaconda3/envs/qt/lib/python3.10/site-packages/IPython/core/pylabtools.py:170: UserWarning: Glyph 47564 (\\N{HANGUL SYLLABLE MAN}) missing from font(s) DejaVu Sans.\n",
      "  fig.canvas.print_figure(bytes_io, **kw)\n",
      "/Users/hyeyongseo/anaconda3/envs/qt/lib/python3.10/site-packages/IPython/core/pylabtools.py:170: UserWarning: Glyph 44592 (\\N{HANGUL SYLLABLE GI}) missing from font(s) DejaVu Sans.\n",
      "  fig.canvas.print_figure(bytes_io, **kw)\n",
      "/Users/hyeyongseo/anaconda3/envs/qt/lib/python3.10/site-packages/IPython/core/pylabtools.py:170: UserWarning: Glyph 44620 (\\N{HANGUL SYLLABLE GGA}) missing from font(s) DejaVu Sans.\n",
      "  fig.canvas.print_figure(bytes_io, **kw)\n",
      "/Users/hyeyongseo/anaconda3/envs/qt/lib/python3.10/site-packages/IPython/core/pylabtools.py:170: UserWarning: Glyph 51648 (\\N{HANGUL SYLLABLE JI}) missing from font(s) DejaVu Sans.\n",
      "  fig.canvas.print_figure(bytes_io, **kw)\n",
      "/Users/hyeyongseo/anaconda3/envs/qt/lib/python3.10/site-packages/IPython/core/pylabtools.py:170: UserWarning: Glyph 51032 (\\N{HANGUL SYLLABLE YI}) missing from font(s) DejaVu Sans.\n",
      "  fig.canvas.print_figure(bytes_io, **kw)\n",
      "/Users/hyeyongseo/anaconda3/envs/qt/lib/python3.10/site-packages/IPython/core/pylabtools.py:170: UserWarning: Glyph 44036 (\\N{HANGUL SYLLABLE GAN}) missing from font(s) DejaVu Sans.\n",
      "  fig.canvas.print_figure(bytes_io, **kw)\n"
     ]
    },
    {
     "data": {
      "image/png": "[encoded data removed]",
      "text/plain": [
       "<Figure size 640x480 with 1 Axes>"
      ]
     },
     "metadata": {},
     "output_type": "display_data"
    }
   ],
   "source": [
    "# y축 레이블을 \"수익률 (%)\"로 설정\n",
    "plt.ylabel(\"수익률 (%)\")\n",
    "# x축 레이블을 \"만기까지의 기간\"으로 설정\n",
    "plt.xlabel(\"만기까지의 기간\")\n",
    "# 그래프 제목을 \"미국 국채 수익률 곡선\"으로 설정\n",
    "plt.title(\"미국 국채 수익률 곡선\")"
   ]
  },
  {
   "cell_type": "markdown",
   "id": "a2efb4de",
   "metadata": {
    "lines_to_next_cell": 2
   },
   "source": [
    "10. **애니메이션이 초기화될 때 실행되는 함수 생성**:"
   ]
  },
  {
   "cell_type": "code",
   "execution_count": 20,
   "id": "a4a23543",
   "metadata": {
    "lines_to_next_cell": 2
   },
   "outputs": [],
   "source": [
    "def init_func():\n",
    "    \"\"\"\n",
    "    애니메이션의 초기 상태를 설정하는 함수\n",
    "\n",
    "    Returns:\n",
    "        tuple: 빈 데이터로 초기화된 line 객체를 포함하는 튜플\n",
    "    \"\"\"\n",
    "    # 라인 객체의 데이터를 빈 리스트로 초기화\n",
    "    line.set_data([], [])\n",
    "    # 업데이트된 라인 객체를 튜플로 반환\n",
    "    return (line,)"
   ]
  },
  {
   "cell_type": "markdown",
   "id": "24e87c6d",
   "metadata": {
    "lines_to_next_cell": 2
   },
   "source": [
    "11. 데이터를 반복 처리하며 실행되는 함수 생성:\n",
    "\n",
    "각 프레임마다 플롯을 업데이트하는 애니메이션 함수"
   ]
  },
  {
   "cell_type": "code",
   "execution_count": 21,
   "id": "18a5ad3c",
   "metadata": {},
   "outputs": [],
   "source": [
    "def animate(i):\n",
    "    \"\"\"\n",
    "    각 프레임마다 수익률 곡선을 업데이트하는 애니메이션 함수\n",
    "\n",
    "    Args:\n",
    "        i (int): 현재 프레임 번호\n",
    "\n",
    "    Returns:\n",
    "        tuple: 업데이트된 line 객체를 포함하는 튜플\n",
    "    \"\"\"\n",
    "    # x축 데이터 생성 (만기 기간)\n",
    "    x = range(0, len(maturities))\n",
    "    # y축 데이터 가져오기 (해당 시점의 수익률)\n",
    "    y = data[maturities].iloc[i]\n",
    "    # 현재 날짜 문자열 생성\n",
    "    dt_ = data.index[i].strftime(\"%Y-%m-%d\")\n",
    "\n",
    "    # 수익률 곡선이 역전되었는지 확인하여 색상 설정\n",
    "    if data.inverted.iloc[i]:\n",
    "        line.set_color(\"r\")  # 역전된 경우 빨간색\n",
    "    else:\n",
    "        line.set_color(\"y\")  # 정상인 경우 노란색\n",
    "\n",
    "    # 라인 데이터 업데이트\n",
    "    line.set_data(x, y)\n",
    "\n",
    "    # 그래프 제목 업데이트 (날짜 포함)\n",
    "    plt.title(f\"미국 국채 수익률 곡선 ({dt_})\")\n",
    "    return (line,)"
   ]
  },
  {
   "cell_type": "code",
   "execution_count": 25,
   "id": "d893662f",
   "metadata": {},
   "outputs": [],
   "source": [
    "# 상수 정의\n",
    "INVERTED_COLOR = \"r\"  # 역전된 수익률 곡선용 색상\n",
    "NORMAL_COLOR = \"y\"  # 정상 수익률 곡선용 색상\n",
    "DATE_FORMAT = \"%Y-%m-%d\"\n",
    "\n",
    "\n",
    "def animate(i):\n",
    "    \"\"\"\n",
    "    각 프레임마다 수익률 곡선을 업데이트하는 애니메이션 함수\n",
    "\n",
    "    Args:\n",
    "        i (int): 현재 프레임 번호\n",
    "\n",
    "    Returns:\n",
    "        tuple: 업데이트된 line 객체를 포함하는 튜플\n",
    "    \"\"\"\n",
    "    try:\n",
    "        x = range(0, len(maturities))\n",
    "        y = data[maturities].iloc[i]\n",
    "        dt_ = data.index[i].strftime(DATE_FORMAT)\n",
    "\n",
    "        if data.inverted.iloc[i]:\n",
    "            line.set_color(INVERTED_COLOR)\n",
    "        else:\n",
    "            line.set_color(NORMAL_COLOR)\n",
    "\n",
    "        line.set_data(x, y)\n",
    "        plt.title(f\"미국 국채 수익률 곡선 ({dt_})\")\n",
    "        return (line,)\n",
    "\n",
    "    except Exception as e:\n",
    "        print(f\"애니메이션 프레임 {i} 처리 중 오류 발생: {e}\")\n",
    "        return (line,)"
   ]
  },
  {
   "cell_type": "markdown",
   "id": "30f8cc19",
   "metadata": {},
   "source": [
    "12. 애니메이션 생성 및 통합:"
   ]
  },
  {
   "cell_type": "code",
   "execution_count": 26,
   "id": "a2784bd1",
   "metadata": {},
   "outputs": [],
   "source": [
    "# animation.FuncAnimation을 사용하여 애니메이션 생성\n",
    "# fig: 애니메이션을 표시할 figure 객체\n",
    "# animate: 각 프레임마다 호출되는 애니메이션 함수\n",
    "# init_func: 애니메이션 초기화 함수\n",
    "# frames: 총 프레임 수 (데이터 포인트 수)\n",
    "# interval: 프레임 간 시간 간격(ms)\n",
    "# blit: True로 설정하여 변경된 부분만 다시 그리도록 최적화\n",
    "ani = animation.FuncAnimation(\n",
    "    fig, animate, init_func=init_func, frames=len(data.index), interval=250, blit=True\n",
    ")"
   ]
  },
  {
   "cell_type": "markdown",
   "id": "828a51e4",
   "metadata": {},
   "source": [
    "13. 플롯 유지 및 차트 표시:"
   ]
  },
  {
   "cell_type": "code",
   "execution_count": null,
   "id": "4c6b0c20-4235-4b8c-ba0c-b33327043ab5",
   "metadata": {},
   "outputs": [],
   "source": []
  },
  {
   "cell_type": "code",
   "execution_count": 27,
   "id": "5c605ec3",
   "metadata": {},
   "outputs": [],
   "source": [
    "# plt.show()\n",
    "# 주피터 노트북에서 애니메이션 표시\n",
    "from IPython.display import HTML\n",
    "\n",
    "plt.rcParams[\"animation.embed_limit\"] = 100 * 1024 * 1024  # 50MB로 제한 증가\n"
   ]
  },
  {
   "cell_type": "code",
   "execution_count": 28,
   "id": "ee66603d-18df-45a9-afe8-86618e192d3e",
   "metadata": {},
   "outputs": [
    {
     "name": "stderr",
     "output_type": "stream",
     "text": [
      "MovieWriter ffmpeg unavailable; using Pillow instead.\n"
     ]
    },
    {
     "ename": "ValueError",
     "evalue": "unknown file extension: .mp4",
     "output_type": "error",
     "traceback": [
      "\u001b[0;31m---------------------------------------------------------------------------\u001b[0m",
      "\u001b[0;31mKeyError\u001b[0m                                  Traceback (most recent call last)",
      "File \u001b[0;32m~/anaconda3/envs/qt/lib/python3.10/site-packages/PIL/Image.py:2580\u001b[0m, in \u001b[0;36mImage.save\u001b[0;34m(self, fp, format, **params)\u001b[0m\n\u001b[1;32m   2579\u001b[0m \u001b[38;5;28;01mtry\u001b[39;00m:\n\u001b[0;32m-> 2580\u001b[0m     \u001b[38;5;28mformat\u001b[39m \u001b[38;5;241m=\u001b[39m \u001b[43mEXTENSION\u001b[49m\u001b[43m[\u001b[49m\u001b[43mext\u001b[49m\u001b[43m]\u001b[49m\n\u001b[1;32m   2581\u001b[0m \u001b[38;5;28;01mexcept\u001b[39;00m \u001b[38;5;167;01mKeyError\u001b[39;00m \u001b[38;5;28;01mas\u001b[39;00m e:\n",
      "\u001b[0;31mKeyError\u001b[0m: '.mp4'",
      "\nThe above exception was the direct cause of the following exception:\n",
      "\u001b[0;31mValueError\u001b[0m                                Traceback (most recent call last)",
      "Cell \u001b[0;32mIn[28], line 1\u001b[0m\n\u001b[0;32m----> 1\u001b[0m \u001b[43mani\u001b[49m\u001b[38;5;241;43m.\u001b[39;49m\u001b[43msave\u001b[49m\u001b[43m(\u001b[49m\u001b[38;5;124;43m\"\u001b[39;49m\u001b[38;5;124;43manimation.mp4\u001b[39;49m\u001b[38;5;124;43m\"\u001b[39;49m\u001b[43m,\u001b[49m\u001b[43m \u001b[49m\u001b[43mwriter\u001b[49m\u001b[38;5;241;43m=\u001b[39;49m\u001b[38;5;124;43m\"\u001b[39;49m\u001b[38;5;124;43mffmpeg\u001b[39;49m\u001b[38;5;124;43m\"\u001b[39;49m\u001b[43m)\u001b[49m\n",
      "File \u001b[0;32m~/anaconda3/envs/qt/lib/python3.10/site-packages/matplotlib/animation.py:1098\u001b[0m, in \u001b[0;36mAnimation.save\u001b[0;34m(self, filename, writer, fps, dpi, codec, bitrate, extra_args, metadata, extra_anim, savefig_kwargs, progress_callback)\u001b[0m\n\u001b[1;32m   1093\u001b[0m     \u001b[38;5;28;01mreturn\u001b[39;00m a \u001b[38;5;241m*\u001b[39m np\u001b[38;5;241m.\u001b[39marray([r, g, b]) \u001b[38;5;241m+\u001b[39m \u001b[38;5;241m1\u001b[39m \u001b[38;5;241m-\u001b[39m a\n\u001b[1;32m   1095\u001b[0m \u001b[38;5;66;03m# canvas._is_saving = True makes the draw_event animation-starting\u001b[39;00m\n\u001b[1;32m   1096\u001b[0m \u001b[38;5;66;03m# callback a no-op; canvas.manager = None prevents resizing the GUI\u001b[39;00m\n\u001b[1;32m   1097\u001b[0m \u001b[38;5;66;03m# widget (both are likewise done in savefig()).\u001b[39;00m\n\u001b[0;32m-> 1098\u001b[0m \u001b[38;5;28;01mwith\u001b[39;00m (writer\u001b[38;5;241m.\u001b[39msaving(\u001b[38;5;28mself\u001b[39m\u001b[38;5;241m.\u001b[39m_fig, filename, dpi),\n\u001b[1;32m   1099\u001b[0m       cbook\u001b[38;5;241m.\u001b[39m_setattr_cm(\u001b[38;5;28mself\u001b[39m\u001b[38;5;241m.\u001b[39m_fig\u001b[38;5;241m.\u001b[39mcanvas, _is_saving\u001b[38;5;241m=\u001b[39m\u001b[38;5;28;01mTrue\u001b[39;00m, manager\u001b[38;5;241m=\u001b[39m\u001b[38;5;28;01mNone\u001b[39;00m)):\n\u001b[1;32m   1100\u001b[0m     \u001b[38;5;28;01mif\u001b[39;00m \u001b[38;5;129;01mnot\u001b[39;00m writer\u001b[38;5;241m.\u001b[39m_supports_transparency():\n\u001b[1;32m   1101\u001b[0m         facecolor \u001b[38;5;241m=\u001b[39m savefig_kwargs\u001b[38;5;241m.\u001b[39mget(\u001b[38;5;124m'\u001b[39m\u001b[38;5;124mfacecolor\u001b[39m\u001b[38;5;124m'\u001b[39m,\n\u001b[1;32m   1102\u001b[0m                                        mpl\u001b[38;5;241m.\u001b[39mrcParams[\u001b[38;5;124m'\u001b[39m\u001b[38;5;124msavefig.facecolor\u001b[39m\u001b[38;5;124m'\u001b[39m])\n",
      "File \u001b[0;32m~/anaconda3/envs/qt/lib/python3.10/contextlib.py:142\u001b[0m, in \u001b[0;36m_GeneratorContextManager.__exit__\u001b[0;34m(self, typ, value, traceback)\u001b[0m\n\u001b[1;32m    140\u001b[0m \u001b[38;5;28;01mif\u001b[39;00m typ \u001b[38;5;129;01mis\u001b[39;00m \u001b[38;5;28;01mNone\u001b[39;00m:\n\u001b[1;32m    141\u001b[0m     \u001b[38;5;28;01mtry\u001b[39;00m:\n\u001b[0;32m--> 142\u001b[0m         \u001b[38;5;28;43mnext\u001b[39;49m\u001b[43m(\u001b[49m\u001b[38;5;28;43mself\u001b[39;49m\u001b[38;5;241;43m.\u001b[39;49m\u001b[43mgen\u001b[49m\u001b[43m)\u001b[49m\n\u001b[1;32m    143\u001b[0m     \u001b[38;5;28;01mexcept\u001b[39;00m \u001b[38;5;167;01mStopIteration\u001b[39;00m:\n\u001b[1;32m    144\u001b[0m         \u001b[38;5;28;01mreturn\u001b[39;00m \u001b[38;5;28;01mFalse\u001b[39;00m\n",
      "File \u001b[0;32m~/anaconda3/envs/qt/lib/python3.10/site-packages/matplotlib/animation.py:226\u001b[0m, in \u001b[0;36mAbstractMovieWriter.saving\u001b[0;34m(self, fig, outfile, dpi, *args, **kwargs)\u001b[0m\n\u001b[1;32m    224\u001b[0m     \u001b[38;5;28;01myield\u001b[39;00m \u001b[38;5;28mself\u001b[39m\n\u001b[1;32m    225\u001b[0m \u001b[38;5;28;01mfinally\u001b[39;00m:\n\u001b[0;32m--> 226\u001b[0m     \u001b[38;5;28;43mself\u001b[39;49m\u001b[38;5;241;43m.\u001b[39;49m\u001b[43mfinish\u001b[49m\u001b[43m(\u001b[49m\u001b[43m)\u001b[49m\n",
      "File \u001b[0;32m~/anaconda3/envs/qt/lib/python3.10/site-packages/matplotlib/animation.py:506\u001b[0m, in \u001b[0;36mPillowWriter.finish\u001b[0;34m(self)\u001b[0m\n\u001b[1;32m    505\u001b[0m \u001b[38;5;28;01mdef\u001b[39;00m \u001b[38;5;21mfinish\u001b[39m(\u001b[38;5;28mself\u001b[39m):\n\u001b[0;32m--> 506\u001b[0m     \u001b[38;5;28;43mself\u001b[39;49m\u001b[38;5;241;43m.\u001b[39;49m\u001b[43m_frames\u001b[49m\u001b[43m[\u001b[49m\u001b[38;5;241;43m0\u001b[39;49m\u001b[43m]\u001b[49m\u001b[38;5;241;43m.\u001b[39;49m\u001b[43msave\u001b[49m\u001b[43m(\u001b[49m\n\u001b[1;32m    507\u001b[0m \u001b[43m        \u001b[49m\u001b[38;5;28;43mself\u001b[39;49m\u001b[38;5;241;43m.\u001b[39;49m\u001b[43moutfile\u001b[49m\u001b[43m,\u001b[49m\u001b[43m \u001b[49m\u001b[43msave_all\u001b[49m\u001b[38;5;241;43m=\u001b[39;49m\u001b[38;5;28;43;01mTrue\u001b[39;49;00m\u001b[43m,\u001b[49m\u001b[43m \u001b[49m\u001b[43mappend_images\u001b[49m\u001b[38;5;241;43m=\u001b[39;49m\u001b[38;5;28;43mself\u001b[39;49m\u001b[38;5;241;43m.\u001b[39;49m\u001b[43m_frames\u001b[49m\u001b[43m[\u001b[49m\u001b[38;5;241;43m1\u001b[39;49m\u001b[43m:\u001b[49m\u001b[43m]\u001b[49m\u001b[43m,\u001b[49m\n\u001b[1;32m    508\u001b[0m \u001b[43m        \u001b[49m\u001b[43mduration\u001b[49m\u001b[38;5;241;43m=\u001b[39;49m\u001b[38;5;28;43mint\u001b[39;49m\u001b[43m(\u001b[49m\u001b[38;5;241;43m1000\u001b[39;49m\u001b[43m \u001b[49m\u001b[38;5;241;43m/\u001b[39;49m\u001b[43m \u001b[49m\u001b[38;5;28;43mself\u001b[39;49m\u001b[38;5;241;43m.\u001b[39;49m\u001b[43mfps\u001b[49m\u001b[43m)\u001b[49m\u001b[43m,\u001b[49m\u001b[43m \u001b[49m\u001b[43mloop\u001b[49m\u001b[38;5;241;43m=\u001b[39;49m\u001b[38;5;241;43m0\u001b[39;49m\u001b[43m)\u001b[49m\n",
      "File \u001b[0;32m~/anaconda3/envs/qt/lib/python3.10/site-packages/PIL/Image.py:2583\u001b[0m, in \u001b[0;36mImage.save\u001b[0;34m(self, fp, format, **params)\u001b[0m\n\u001b[1;32m   2581\u001b[0m     \u001b[38;5;28;01mexcept\u001b[39;00m \u001b[38;5;167;01mKeyError\u001b[39;00m \u001b[38;5;28;01mas\u001b[39;00m e:\n\u001b[1;32m   2582\u001b[0m         msg \u001b[38;5;241m=\u001b[39m \u001b[38;5;124mf\u001b[39m\u001b[38;5;124m\"\u001b[39m\u001b[38;5;124munknown file extension: \u001b[39m\u001b[38;5;132;01m{\u001b[39;00mext\u001b[38;5;132;01m}\u001b[39;00m\u001b[38;5;124m\"\u001b[39m\n\u001b[0;32m-> 2583\u001b[0m         \u001b[38;5;28;01mraise\u001b[39;00m \u001b[38;5;167;01mValueError\u001b[39;00m(msg) \u001b[38;5;28;01mfrom\u001b[39;00m \u001b[38;5;21;01me\u001b[39;00m\n\u001b[1;32m   2585\u001b[0m \u001b[38;5;28;01mif\u001b[39;00m \u001b[38;5;28mformat\u001b[39m\u001b[38;5;241m.\u001b[39mupper() \u001b[38;5;129;01mnot\u001b[39;00m \u001b[38;5;129;01min\u001b[39;00m SAVE:\n\u001b[1;32m   2586\u001b[0m     init()\n",
      "\u001b[0;31mValueError\u001b[0m: unknown file extension: .mp4"
     ]
    },
    {
     "name": "stderr",
     "output_type": "stream",
     "text": [
      "/Users/hyeyongseo/anaconda3/envs/qt/lib/python3.10/site-packages/IPython/core/events.py:82: UserWarning: Glyph 48120 (\\N{HANGUL SYLLABLE MI}) missing from font(s) DejaVu Sans.\n",
      "  func(*args, **kwargs)\n",
      "/Users/hyeyongseo/anaconda3/envs/qt/lib/python3.10/site-packages/IPython/core/events.py:82: UserWarning: Glyph 44397 (\\N{HANGUL SYLLABLE GUG}) missing from font(s) DejaVu Sans.\n",
      "  func(*args, **kwargs)\n",
      "/Users/hyeyongseo/anaconda3/envs/qt/lib/python3.10/site-packages/IPython/core/events.py:82: UserWarning: Glyph 52292 (\\N{HANGUL SYLLABLE CAE}) missing from font(s) DejaVu Sans.\n",
      "  func(*args, **kwargs)\n",
      "/Users/hyeyongseo/anaconda3/envs/qt/lib/python3.10/site-packages/IPython/core/events.py:82: UserWarning: Glyph 49688 (\\N{HANGUL SYLLABLE SU}) missing from font(s) DejaVu Sans.\n",
      "  func(*args, **kwargs)\n",
      "/Users/hyeyongseo/anaconda3/envs/qt/lib/python3.10/site-packages/IPython/core/events.py:82: UserWarning: Glyph 51061 (\\N{HANGUL SYLLABLE IG}) missing from font(s) DejaVu Sans.\n",
      "  func(*args, **kwargs)\n",
      "/Users/hyeyongseo/anaconda3/envs/qt/lib/python3.10/site-packages/IPython/core/events.py:82: UserWarning: Glyph 47456 (\\N{HANGUL SYLLABLE RYUL}) missing from font(s) DejaVu Sans.\n",
      "  func(*args, **kwargs)\n",
      "/Users/hyeyongseo/anaconda3/envs/qt/lib/python3.10/site-packages/IPython/core/events.py:82: UserWarning: Glyph 44257 (\\N{HANGUL SYLLABLE GOG}) missing from font(s) DejaVu Sans.\n",
      "  func(*args, **kwargs)\n",
      "/Users/hyeyongseo/anaconda3/envs/qt/lib/python3.10/site-packages/IPython/core/events.py:82: UserWarning: Glyph 49440 (\\N{HANGUL SYLLABLE SEON}) missing from font(s) DejaVu Sans.\n",
      "  func(*args, **kwargs)\n",
      "/Users/hyeyongseo/anaconda3/envs/qt/lib/python3.10/site-packages/IPython/core/pylabtools.py:170: UserWarning: Glyph 48120 (\\N{HANGUL SYLLABLE MI}) missing from font(s) DejaVu Sans.\n",
      "  fig.canvas.print_figure(bytes_io, **kw)\n",
      "/Users/hyeyongseo/anaconda3/envs/qt/lib/python3.10/site-packages/IPython/core/pylabtools.py:170: UserWarning: Glyph 44397 (\\N{HANGUL SYLLABLE GUG}) missing from font(s) DejaVu Sans.\n",
      "  fig.canvas.print_figure(bytes_io, **kw)\n",
      "/Users/hyeyongseo/anaconda3/envs/qt/lib/python3.10/site-packages/IPython/core/pylabtools.py:170: UserWarning: Glyph 52292 (\\N{HANGUL SYLLABLE CAE}) missing from font(s) DejaVu Sans.\n",
      "  fig.canvas.print_figure(bytes_io, **kw)\n",
      "/Users/hyeyongseo/anaconda3/envs/qt/lib/python3.10/site-packages/IPython/core/pylabtools.py:170: UserWarning: Glyph 49688 (\\N{HANGUL SYLLABLE SU}) missing from font(s) DejaVu Sans.\n",
      "  fig.canvas.print_figure(bytes_io, **kw)\n",
      "/Users/hyeyongseo/anaconda3/envs/qt/lib/python3.10/site-packages/IPython/core/pylabtools.py:170: UserWarning: Glyph 51061 (\\N{HANGUL SYLLABLE IG}) missing from font(s) DejaVu Sans.\n",
      "  fig.canvas.print_figure(bytes_io, **kw)\n",
      "/Users/hyeyongseo/anaconda3/envs/qt/lib/python3.10/site-packages/IPython/core/pylabtools.py:170: UserWarning: Glyph 47456 (\\N{HANGUL SYLLABLE RYUL}) missing from font(s) DejaVu Sans.\n",
      "  fig.canvas.print_figure(bytes_io, **kw)\n",
      "/Users/hyeyongseo/anaconda3/envs/qt/lib/python3.10/site-packages/IPython/core/pylabtools.py:170: UserWarning: Glyph 44257 (\\N{HANGUL SYLLABLE GOG}) missing from font(s) DejaVu Sans.\n",
      "  fig.canvas.print_figure(bytes_io, **kw)\n",
      "/Users/hyeyongseo/anaconda3/envs/qt/lib/python3.10/site-packages/IPython/core/pylabtools.py:170: UserWarning: Glyph 49440 (\\N{HANGUL SYLLABLE SEON}) missing from font(s) DejaVu Sans.\n",
      "  fig.canvas.print_figure(bytes_io, **kw)\n"
     ]
    },
    {
     "data": {
      "image/png": "[encoded data removed]",
      "text/plain": [
       "<Figure size 640x480 with 1 Axes>"
      ]
     },
     "metadata": {},
     "output_type": "display_data"
    }
   ],
   "source": [
    "ani.save(\"animation.mp4\", writer=\"ffmpeg\")"
   ]
  },
  {
   "cell_type": "code",
   "execution_count": null,
   "id": "29db7e22-a33b-4089-b582-436a4f0bc69e",
   "metadata": {},
   "outputs": [],
   "source": [
    "ffmpeg"
   ]
  },
  {
   "cell_type": "code",
   "execution_count": 51,
   "id": "d874cbc0-fefc-4179-bb6a-ac01ec293297",
   "metadata": {},
   "outputs": [
    {
     "name": "stdout",
     "output_type": "stream",
     "text": [
      "zsh:1: no matches found: imageio[ffmpeg]\n",
      "Requirement already satisfied: pillow in /Users/hyeyongseo/anaconda3/envs/qt/lib/python3.10/site-packages (11.0.0)\n"
     ]
    }
   ],
   "source": [
    "!pip install imageio[ffmpeg]\n",
    "!pip install pillow"
   ]
  },
  {
   "cell_type": "code",
   "execution_count": null,
   "id": "8dd49f02-5d73-4224-bfdf-6e858d7e72d2",
   "metadata": {},
   "outputs": [],
   "source": [
    "from IPython.display import HTML\n",
    "\n",
    "# 애니메이션을 Jupyter Notebook에서 표시\n",
    "HTML(ani.to_jshtml())\n"
   ]
  },
  {
   "cell_type": "code",
   "execution_count": 45,
   "id": "f6845fe4-a1ae-4878-9e7b-d81eba1aacc3",
   "metadata": {},
   "outputs": [],
   "source": [
    "%matplotlib inline\n",
    "import matplotlib\n",
    "matplotlib.rcParams[\"animation.html\"] = \"jshtml\""
   ]
  },
  {
   "cell_type": "code",
   "execution_count": null,
   "id": "cb1c5f92",
   "metadata": {},
   "outputs": [],
   "source": [
    "import numpy as np\n",
    "import matplotlib.pyplot as plt\n",
    "from matplotlib.animation import FuncAnimation\n",
    "from IPython.display import HTML\n",
    "\n",
    "# 주피터 노트북에서 애니메이션을 표시하기 위한 설정\n",
    "%matplotlib inline\n",
    "from IPython.display import HTML\n",
    "\n",
    "# 그래프 설정\n",
    "fig, ax = plt.subplots()\n",
    "x = np.linspace(0, 2*np.pi, 100)\n",
    "line, = ax.plot(x, np.sin(x))\n",
    "\n",
    "# 애니메이션 함수\n",
    "def animate(frame):\n",
    "    line.set_ydata(np.sin(x + frame/10.0))\n",
    "    return line,\n",
    "\n",
    "# 애니메이션 생성\n",
    "ani = FuncAnimation(fig, animate, frames=100, \n",
    "                   interval=50, blit=True)\n",
    "\n",
    "# 주피터 노트북에서 애니메이션 표시\n",
    "HTML(ani.to_jshtml())"
   ]
  },
  {
   "cell_type": "markdown",
   "id": "154f16f1",
   "metadata": {},
   "source": [
    "---\n",
    "\n",
    "#### 작동 방식\n",
    "##### init_func: 초기화 함수 \n",
    "\n",
    "수익률 데이터를 표시하기 위해 가로축에 만기 시간, 세로축에 수익률 값을 갖는 플롯을 준비합니다. 그런 다음 라인 플롯을 설정하여 데이터를 표시합니다.  \n",
    "초기화 함수(`init_func`)는 애니메이션의 시작 프레임을 설정합니다. 주요 애니메이션 함수(`animate`)는 데이터가 업데이트되는 곳으로, 각 채권 만기의 수익률 데이터를 다른 시간 포인트에서 다시 그립니다. 특정 날짜에 데이터가 역전된 수익률 곡선을 나타내는 경우, 선의 색상이 빨간색으로 변경되며, 그렇지 않으면 노란색으로 유지됩니다.\n",
    "##### FuncAnimation : \n",
    "\n",
    "* 실제 애니메이션은 `FuncAnimation` 클래스를 사용하여 생성됩니다. \n",
    "* 이 클래스는 250밀리초 간격으로 `animate` 함수를 호출합니다. \n",
    "* 블리팅(blitting)을 사용하면 플롯의 변경된 부분만 다시 그리도록 하여 애니메이션 효율성을 높입니다. \n",
    "* 마지막의 `show` 명령은 애니메이션을 표시합니다.\n",
    "\n",
    "---"
   ]
  },
  {
   "cell_type": "markdown",
   "id": "a2c371c9-cbe0-4987-b17b-81e5c008d531",
   "metadata": {},
   "source": [
    "### 더 알아보기...\n",
    "\n",
    "`FuncAnimation`은 다재다능한 클래스입니다. 위에서 사용된 인수 외에도 다음을 허용합니다:\n",
    "\n",
    "1. **`repeat`**: 모든 프레임이 표시된 후 애니메이션을 반복할지 여부를 나타내는 부울 값.\n",
    "2. **`repeat_delay`**: 애니메이션 반복 사이의 지연 시간(밀리초 단위).\n",
    "3. **`fargs`**: `func`(애니메이션 함수)에 전달할 추가 인수.\n",
    "4. **`save_count`**: 애니메이션 저장 시 성능을 개선하기 위해 캐시할 프레임 값의 수. `None`인 경우 모든 프레임이 캐시됩니다.\n",
    "5. **`cache_frame_data`**: `True`로 설정하면 `animate` 함수의 반환값을 캐시하여 긴 애니메이션 저장 속도를 높일 수 있습니다. `False`로 설정하면 저장 과정에서 프레임이 애니메이션 함수에 의해 다시 생성됩니다.\n",
    "6. **`event_source`**: `EventSource`의 인스턴스 또는 `None`. `None`인 경우 새로운 `TimerBase` 인스턴스가 생성됩니다. 이는 여러 애니메이션을 동기화하려는 경우 유용합니다.\n",
    "\n",
    "이것들은 `FuncAnimation`에서 사용할 수 있는 주요 인수 중 일부입니다. 또한 몇 가지 내부 및 기본 클래스 인수가 있지만 대부분의 애플리케이션에서 자주 사용되지는 않습니다.\n",
    "\n",
    "---\n",
    "\n",
    "### 참고 자료\n",
    "\n",
    "애니메이션 API는 풍부한 애니메이션 옵션을 제공합니다. 자세한 내용은 다음 링크를 참고하세요:  \n",
    "- [Matplotlib 애니메이션 API 문서](https://matplotlib.org/stable/api/animation_api.html)\n",
    "\n",
    "---"
   ]
  }
 ],
 "metadata": {
  "jupytext": {
   "cell_metadata_filter": "-all",
   "main_language": "python",
   "notebook_metadata_filter": "-all"
  },
  "kernelspec": {
   "display_name": "qt",
   "language": "python",
   "name": "qt"
  },
  "language_info": {
   "codemirror_mode": {
    "name": "ipython",
    "version": 3
   },
   "file_extension": ".py",
   "mimetype": "text/x-python",
   "name": "python",
   "nbconvert_exporter": "python",
   "pygments_lexer": "ipython3",
   "version": "3.10.16"
  }
 },
 "nbformat": 4,
 "nbformat_minor": 5
}
